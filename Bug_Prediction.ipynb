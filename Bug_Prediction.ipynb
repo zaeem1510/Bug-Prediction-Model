{
  "nbformat": 4,
  "nbformat_minor": 0,
  "metadata": {
    "colab": {
      "provenance": []
    },
    "kernelspec": {
      "name": "python3",
      "display_name": "Python 3"
    },
    "language_info": {
      "name": "python"
    }
  },
  "cells": [
    {
      "cell_type": "markdown",
      "source": [
        "# Model to predict the similarity of reported bugs"
      ],
      "metadata": {
        "id": "0Xz4VjzhvG81"
      }
    },
    {
      "cell_type": "markdown",
      "source": [
        "## Setting up the environment"
      ],
      "metadata": {
        "id": "6K9Zja95vL9e"
      }
    },
    {
      "cell_type": "markdown",
      "source": [
        "The expected necessary libraries are imported up front"
      ],
      "metadata": {
        "id": "oJYRlwE2vO1F"
      }
    },
    {
      "cell_type": "code",
      "execution_count": null,
      "metadata": {
        "id": "MSeVCQQQY8yG"
      },
      "outputs": [],
      "source": [
        "import numpy as np\n",
        "import pandas as pd\n",
        "import gensim\n",
        "from gensim.models import word2vec\n",
        "from gensim.models.word2vec import Word2Vec\n",
        "from sklearn.feature_extraction.text import CountVectorizer,TfidfVectorizer\n",
        "from sklearn import metrics\n",
        "\n",
        "import string\n",
        "import spacy"
      ]
    },
    {
      "cell_type": "markdown",
      "source": [
        "### Word embedding using genism\n",
        "\n",
        "Gensim is a Python library for topic modelling, document indexing and similarity retrieval with large corpora. Target audience is the natural language processing (NLP) and information retrieval (IR) community.\n",
        "\n",
        "Word embeddings are basically a form of word representation that bridges the human understanding of language to that of a machine. They have learned representations of text in an n-dimensional space where words that have the same meaning have a similar representation. Meaning that two similar words are represented by almost similar vectors that are very closely placed in a vector space.\n",
        "\n",
        "![we1.png](data:image/png;base64,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)"
      ],
      "metadata": {
        "id": "mTtfR9QJwYlJ"
      }
    },
    {
      "cell_type": "markdown",
      "source": [
        "Genism is installed as an API to be used."
      ],
      "metadata": {
        "id": "GBcAwtGD9I8V"
      }
    },
    {
      "cell_type": "code",
      "source": [
        "import gensim.downloader as api\n",
        "print(list(gensim.downloader.info()['models'].keys()))\n",
        "wv = api.load('glove-twitter-50')"
      ],
      "metadata": {
        "colab": {
          "base_uri": "https://localhost:8080/"
        },
        "id": "mx34fKDZdAPd",
        "outputId": "0b7819b3-8f23-4047-e128-c6ba741fa135"
      },
      "execution_count": null,
      "outputs": [
        {
          "output_type": "stream",
          "name": "stdout",
          "text": [
            "['fasttext-wiki-news-subwords-300', 'conceptnet-numberbatch-17-06-300', 'word2vec-ruscorpora-300', 'word2vec-google-news-300', 'glove-wiki-gigaword-50', 'glove-wiki-gigaword-100', 'glove-wiki-gigaword-200', 'glove-wiki-gigaword-300', 'glove-twitter-25', 'glove-twitter-50', 'glove-twitter-100', 'glove-twitter-200', '__testing_word2vec-matrix-synopsis']\n"
          ]
        }
      ]
    },
    {
      "cell_type": "markdown",
      "source": [
        "Reading the excel file to variable *dataset*. Key is reduced o integers only by truncating the alphabetical part.\n",
        "\n",
        "***Key*** is the dependent variable here, while ***Summary*** of the bugs is the indepenedent variable."
      ],
      "metadata": {
        "id": "qPCYT7C94Fo2"
      }
    },
    {
      "cell_type": "code",
      "source": [
        "dataset = pd.read_excel('/content/even_better_data_keywords.xlsx')\n",
        "\n",
        "dataset.head()"
      ],
      "metadata": {
        "id": "U84UlFx0RLQt",
        "colab": {
          "base_uri": "https://localhost:8080/",
          "height": 206
        },
        "outputId": "eda0edd9-8d41-45f9-f846-5d06a11d3b33"
      },
      "execution_count": null,
      "outputs": [
        {
          "output_type": "execute_result",
          "data": {
            "text/plain": [
              "   Key  Key_Num                                            Summary  \\\n",
              "0  791        1  Records sent to validation table due to duplic...   \n",
              "1  746        2   - UAT: No result shown in Security Reports fo...   \n",
              "2  873       36   - : How can users see the details of classifi...   \n",
              "3  790        3  Records sent to validation table due to duplicate   \n",
              "4  937       43   - UAT: How can users see the details of class...   \n",
              "\n",
              "  Summary_Keywords            T  \n",
              "0         mismatch          bug  \n",
              "1         security  improvement  \n",
              "2   classification          bug  \n",
              "3        duplicate          bug  \n",
              "4   classification  improvement  "
            ],
            "text/html": [
              "\n",
              "\n",
              "  <div id=\"df-9fd58094-2c36-4306-ae98-5cfe81131c5b\">\n",
              "    <div class=\"colab-df-container\">\n",
              "      <div>\n",
              "<style scoped>\n",
              "    .dataframe tbody tr th:only-of-type {\n",
              "        vertical-align: middle;\n",
              "    }\n",
              "\n",
              "    .dataframe tbody tr th {\n",
              "        vertical-align: top;\n",
              "    }\n",
              "\n",
              "    .dataframe thead th {\n",
              "        text-align: right;\n",
              "    }\n",
              "</style>\n",
              "<table border=\"1\" class=\"dataframe\">\n",
              "  <thead>\n",
              "    <tr style=\"text-align: right;\">\n",
              "      <th></th>\n",
              "      <th>Key</th>\n",
              "      <th>Key_Num</th>\n",
              "      <th>Summary</th>\n",
              "      <th>Summary_Keywords</th>\n",
              "      <th>T</th>\n",
              "    </tr>\n",
              "  </thead>\n",
              "  <tbody>\n",
              "    <tr>\n",
              "      <th>0</th>\n",
              "      <td>791</td>\n",
              "      <td>1</td>\n",
              "      <td>Records sent to validation table due to duplic...</td>\n",
              "      <td>mismatch</td>\n",
              "      <td>bug</td>\n",
              "    </tr>\n",
              "    <tr>\n",
              "      <th>1</th>\n",
              "      <td>746</td>\n",
              "      <td>2</td>\n",
              "      <td>- UAT: No result shown in Security Reports fo...</td>\n",
              "      <td>security</td>\n",
              "      <td>improvement</td>\n",
              "    </tr>\n",
              "    <tr>\n",
              "      <th>2</th>\n",
              "      <td>873</td>\n",
              "      <td>36</td>\n",
              "      <td>- : How can users see the details of classifi...</td>\n",
              "      <td>classification</td>\n",
              "      <td>bug</td>\n",
              "    </tr>\n",
              "    <tr>\n",
              "      <th>3</th>\n",
              "      <td>790</td>\n",
              "      <td>3</td>\n",
              "      <td>Records sent to validation table due to duplicate</td>\n",
              "      <td>duplicate</td>\n",
              "      <td>bug</td>\n",
              "    </tr>\n",
              "    <tr>\n",
              "      <th>4</th>\n",
              "      <td>937</td>\n",
              "      <td>43</td>\n",
              "      <td>- UAT: How can users see the details of class...</td>\n",
              "      <td>classification</td>\n",
              "      <td>improvement</td>\n",
              "    </tr>\n",
              "  </tbody>\n",
              "</table>\n",
              "</div>\n",
              "      <button class=\"colab-df-convert\" onclick=\"convertToInteractive('df-9fd58094-2c36-4306-ae98-5cfe81131c5b')\"\n",
              "              title=\"Convert this dataframe to an interactive table.\"\n",
              "              style=\"display:none;\">\n",
              "\n",
              "  <svg xmlns=\"http://www.w3.org/2000/svg\" height=\"24px\"viewBox=\"0 0 24 24\"\n",
              "       width=\"24px\">\n",
              "    <path d=\"M0 0h24v24H0V0z\" fill=\"none\"/>\n",
              "    <path d=\"M18.56 5.44l.94 2.06.94-2.06 2.06-.94-2.06-.94-.94-2.06-.94 2.06-2.06.94zm-11 1L8.5 8.5l.94-2.06 2.06-.94-2.06-.94L8.5 2.5l-.94 2.06-2.06.94zm10 10l.94 2.06.94-2.06 2.06-.94-2.06-.94-.94-2.06-.94 2.06-2.06.94z\"/><path d=\"M17.41 7.96l-1.37-1.37c-.4-.4-.92-.59-1.43-.59-.52 0-1.04.2-1.43.59L10.3 9.45l-7.72 7.72c-.78.78-.78 2.05 0 2.83L4 21.41c.39.39.9.59 1.41.59.51 0 1.02-.2 1.41-.59l7.78-7.78 2.81-2.81c.8-.78.8-2.07 0-2.86zM5.41 20L4 18.59l7.72-7.72 1.47 1.35L5.41 20z\"/>\n",
              "  </svg>\n",
              "      </button>\n",
              "\n",
              "\n",
              "\n",
              "    <div id=\"df-1dfcf476-27cb-4d6c-b040-30f5efeb6fe7\">\n",
              "      <button class=\"colab-df-quickchart\" onclick=\"quickchart('df-1dfcf476-27cb-4d6c-b040-30f5efeb6fe7')\"\n",
              "              title=\"Suggest charts.\"\n",
              "              style=\"display:none;\">\n",
              "\n",
              "<svg xmlns=\"http://www.w3.org/2000/svg\" height=\"24px\"viewBox=\"0 0 24 24\"\n",
              "     width=\"24px\">\n",
              "    <g>\n",
              "        <path d=\"M19 3H5c-1.1 0-2 .9-2 2v14c0 1.1.9 2 2 2h14c1.1 0 2-.9 2-2V5c0-1.1-.9-2-2-2zM9 17H7v-7h2v7zm4 0h-2V7h2v10zm4 0h-2v-4h2v4z\"/>\n",
              "    </g>\n",
              "</svg>\n",
              "      </button>\n",
              "    </div>\n",
              "\n",
              "<style>\n",
              "  .colab-df-quickchart {\n",
              "    background-color: #E8F0FE;\n",
              "    border: none;\n",
              "    border-radius: 50%;\n",
              "    cursor: pointer;\n",
              "    display: none;\n",
              "    fill: #1967D2;\n",
              "    height: 32px;\n",
              "    padding: 0 0 0 0;\n",
              "    width: 32px;\n",
              "  }\n",
              "\n",
              "  .colab-df-quickchart:hover {\n",
              "    background-color: #E2EBFA;\n",
              "    box-shadow: 0px 1px 2px rgba(60, 64, 67, 0.3), 0px 1px 3px 1px rgba(60, 64, 67, 0.15);\n",
              "    fill: #174EA6;\n",
              "  }\n",
              "\n",
              "  [theme=dark] .colab-df-quickchart {\n",
              "    background-color: #3B4455;\n",
              "    fill: #D2E3FC;\n",
              "  }\n",
              "\n",
              "  [theme=dark] .colab-df-quickchart:hover {\n",
              "    background-color: #434B5C;\n",
              "    box-shadow: 0px 1px 3px 1px rgba(0, 0, 0, 0.15);\n",
              "    filter: drop-shadow(0px 1px 2px rgba(0, 0, 0, 0.3));\n",
              "    fill: #FFFFFF;\n",
              "  }\n",
              "</style>\n",
              "\n",
              "    <script>\n",
              "      async function quickchart(key) {\n",
              "        const containerElement = document.querySelector('#' + key);\n",
              "        const charts = await google.colab.kernel.invokeFunction(\n",
              "            'suggestCharts', [key], {});\n",
              "      }\n",
              "    </script>\n",
              "\n",
              "      <script>\n",
              "\n",
              "function displayQuickchartButton(domScope) {\n",
              "  let quickchartButtonEl =\n",
              "    domScope.querySelector('#df-1dfcf476-27cb-4d6c-b040-30f5efeb6fe7 button.colab-df-quickchart');\n",
              "  quickchartButtonEl.style.display =\n",
              "    google.colab.kernel.accessAllowed ? 'block' : 'none';\n",
              "}\n",
              "\n",
              "        displayQuickchartButton(document);\n",
              "      </script>\n",
              "      <style>\n",
              "    .colab-df-container {\n",
              "      display:flex;\n",
              "      flex-wrap:wrap;\n",
              "      gap: 12px;\n",
              "    }\n",
              "\n",
              "    .colab-df-convert {\n",
              "      background-color: #E8F0FE;\n",
              "      border: none;\n",
              "      border-radius: 50%;\n",
              "      cursor: pointer;\n",
              "      display: none;\n",
              "      fill: #1967D2;\n",
              "      height: 32px;\n",
              "      padding: 0 0 0 0;\n",
              "      width: 32px;\n",
              "    }\n",
              "\n",
              "    .colab-df-convert:hover {\n",
              "      background-color: #E2EBFA;\n",
              "      box-shadow: 0px 1px 2px rgba(60, 64, 67, 0.3), 0px 1px 3px 1px rgba(60, 64, 67, 0.15);\n",
              "      fill: #174EA6;\n",
              "    }\n",
              "\n",
              "    [theme=dark] .colab-df-convert {\n",
              "      background-color: #3B4455;\n",
              "      fill: #D2E3FC;\n",
              "    }\n",
              "\n",
              "    [theme=dark] .colab-df-convert:hover {\n",
              "      background-color: #434B5C;\n",
              "      box-shadow: 0px 1px 3px 1px rgba(0, 0, 0, 0.15);\n",
              "      filter: drop-shadow(0px 1px 2px rgba(0, 0, 0, 0.3));\n",
              "      fill: #FFFFFF;\n",
              "    }\n",
              "  </style>\n",
              "\n",
              "      <script>\n",
              "        const buttonEl =\n",
              "          document.querySelector('#df-9fd58094-2c36-4306-ae98-5cfe81131c5b button.colab-df-convert');\n",
              "        buttonEl.style.display =\n",
              "          google.colab.kernel.accessAllowed ? 'block' : 'none';\n",
              "\n",
              "        async function convertToInteractive(key) {\n",
              "          const element = document.querySelector('#df-9fd58094-2c36-4306-ae98-5cfe81131c5b');\n",
              "          const dataTable =\n",
              "            await google.colab.kernel.invokeFunction('convertToInteractive',\n",
              "                                                     [key], {});\n",
              "          if (!dataTable) return;\n",
              "\n",
              "          const docLinkHtml = 'Like what you see? Visit the ' +\n",
              "            '<a target=\"_blank\" href=https://colab.research.google.com/notebooks/data_table.ipynb>data table notebook</a>'\n",
              "            + ' to learn more about interactive tables.';\n",
              "          element.innerHTML = '';\n",
              "          dataTable['output_type'] = 'display_data';\n",
              "          await google.colab.output.renderOutput(dataTable, element);\n",
              "          const docLink = document.createElement('div');\n",
              "          docLink.innerHTML = docLinkHtml;\n",
              "          element.appendChild(docLink);\n",
              "        }\n",
              "      </script>\n",
              "    </div>\n",
              "  </div>\n"
            ]
          },
          "metadata": {},
          "execution_count": 86
        }
      ]
    },
    {
      "cell_type": "markdown",
      "source": [
        "## Vectorization and tokenizing\n",
        "This section is focused on defining some functions to manipulate the summaries of the reported bugs.\n",
        "\n",
        "\n",
        "spacy_tokenizer: Function to tokenize the string input given to sentence. Each *Summary* is taken as input and broken down into individual words called tokens. Tokens include only meaningful words i.e., punctuations and words which lack impact are stripped while tokenizing.\n",
        "\n",
        "sent_vec: Function to vectorize the given input to *sent*. The tokens are taken as input and allotted a vector in the vector space to implement word embedding."
      ],
      "metadata": {
        "id": "LtYLEDfR3wq8"
      }
    },
    {
      "cell_type": "code",
      "source": [
        "# Creating our tokenizer function\n",
        "def spacy_tokenizer(sentence):\n",
        "\n",
        "    doc = nlp(sentence)\n",
        "\n",
        "    # print(doc)\n",
        "    # print(type(doc))\n",
        "\n",
        "    # Lemmatizing each token and converting each token into lowercase\n",
        "    mytokens = [ word.lemma_.lower().strip() for word in doc ]\n",
        "\n",
        "    # print(mytokens)\n",
        "\n",
        "    # Removing stop words\n",
        "    mytokens = [ word for word in mytokens if word not in stop_words and word not in punctuations ]\n",
        "\n",
        "\n",
        "    return mytokens"
      ],
      "metadata": {
        "id": "51Y2JBbDR9VU"
      },
      "execution_count": null,
      "outputs": []
    },
    {
      "cell_type": "code",
      "source": [
        "def sent_vec(sent):\n",
        "    vector_size = wv.vector_size\n",
        "    wv_res = np.zeros(vector_size)\n",
        "    # print(wv_res)\n",
        "    ctr = 1\n",
        "    for w in sent:\n",
        "        if w in wv:\n",
        "            ctr += 1\n",
        "            wv_res += wv[w]\n",
        "    wv_res = wv_res/ctr\n",
        "    return wv_res"
      ],
      "metadata": {
        "id": "ZZVUUSlwd0Qo"
      },
      "execution_count": null,
      "outputs": []
    },
    {
      "cell_type": "markdown",
      "source": [
        "### Stop words and punctuation\n",
        "\n",
        "Stop words are the words in a stop list (or stoplist or negative dictionary) which are filtered out (i.e. stopped) before or after processing of natural language data (text) because they are insignificant.\n",
        "\n",
        "A similar approach is taken for handling punctuations."
      ],
      "metadata": {
        "id": "ExT77uCn52VH"
      }
    },
    {
      "cell_type": "code",
      "source": [
        "nlp = spacy.load(\"en_core_web_sm\")\n",
        "stop_words = nlp.Defaults.stop_words\n",
        "print(stop_words)\n",
        "\n",
        "punctuations = string.punctuation\n",
        "print(punctuations)"
      ],
      "metadata": {
        "colab": {
          "base_uri": "https://localhost:8080/"
        },
        "id": "IIAQW_FrRidq",
        "outputId": "09133e93-ef01-4519-9dca-068c549d3c68"
      },
      "execution_count": null,
      "outputs": [
        {
          "output_type": "stream",
          "name": "stdout",
          "text": [
            "{'’re', 'anyone', 'did', 'than', 'yourself', 'top', 'show', 'hereupon', 'me', 'while', 'latter', 'every', 'already', 'for', 'each', 'so', 'may', 're', 'least', 'whereupon', 'what', 'more', 'become', 'except', 'its', 'this', 'to', 'take', 'nobody', 'do', 'neither', 'does', 'further', 'much', 'otherwise', 'put', 'no', 'how', 'whose', 'must', 'own', 'various', 'hence', 'nowhere', 'up', 'ca', 'i', 'under', 'less', 'his', 'whither', 'indeed', '‘re', '’ve', 'my', 'within', '‘m', 'herein', 'former', 'ourselves', 'namely', 'as', 'perhaps', 'her', 'whence', 'without', 'elsewhere', 'everywhere', 'first', 'that', 'sixty', 'ours', 'therein', 'either', 'themselves', 'together', 'mostly', 'he', 'because', 'on', 'through', 'during', 'mine', 'beyond', 'fifty', 'eight', 'whole', 'someone', 'been', 'can', 'both', 'was', 'thereby', 'wherever', 'besides', 'rather', 'whenever', 'were', 'itself', 'whatever', 'call', 'anywhere', 'whom', 'a', 'eleven', 'somewhere', 'these', 'anyway', \"'m\", 'at', 'seems', '’d', 'serious', 'along', 'n‘t', 'have', 'other', 'across', '’m', 'has', 'out', 'against', 'say', 'in', 'below', 'go', 'beforehand', 'per', 'would', 'although', 'though', 'which', 'empty', 'an', 'us', \"'d\", 'too', \"'ll\", 'moreover', \"'re\", 'everything', 'nine', '‘ll', 'make', 'could', 'be', 'else', 'thereupon', 'cannot', 'our', 'there', 'if', 'hereby', 'them', 'hers', 'here', '‘ve', 'himself', 'among', 'into', 'please', 'meanwhile', 'of', 'becomes', 'often', 'even', 'onto', 'upon', '’ll', 'the', 'well', 'third', 'being', 'throughout', 'am', 'over', 'or', 'thru', 'towards', 'yourselves', 'will', 'those', 'might', 'some', 'move', 'several', 'hundred', 'none', '’s', 'just', 'why', 'get', 'three', 'alone', 'unless', 'via', 'yet', 'thereafter', 'myself', 'anything', 'back', 'all', 'your', 'due', 'whereafter', 'done', 'sometime', 'side', 'whereby', 'they', 'latterly', 'yours', '‘d', 'last', 'used', 'amount', 'toward', 'off', 'ever', 'seemed', 'about', '‘s', 'afterwards', 'who', 'anyhow', 'ten', 'very', 'around', 'doing', 'above', 'one', 'before', 'until', 'next', \"'s\", 'also', 'always', 'another', 'not', 'again', 'should', \"n't\", 'it', 'since', 'still', 'somehow', 'now', 'whoever', 'forty', 'becoming', 'see', 'bottom', 'and', 'nor', 'enough', 'amongst', 'any', 'such', 'became', 'once', 'between', 'twenty', 'name', 'thence', 'whereas', 'same', 'down', 'but', 'then', 'keep', 'after', 'hereafter', 'is', 'others', 'noone', 'by', 'seem', 'something', 'many', 'with', 'behind', 'she', 'nevertheless', 'seeming', \"'ve\", 'two', 'using', 'wherein', 'few', 'quite', 'herself', 'really', 'four', 'made', 'most', 'from', 'front', 'everyone', 'n’t', 'six', 'when', 'are', 'whether', 'never', 'where', 'almost', 'formerly', 'fifteen', 'give', 'nothing', 'thus', 'therefore', 'him', 'five', 'beside', 'we', 'had', 'only', 'twelve', 'regarding', 'their', 'you', 'full', 'part', 'however', 'sometimes'}\n",
            "!\"#$%&'()*+,-./:;<=>?@[\\]^_`{|}~\n"
          ]
        }
      ]
    },
    {
      "cell_type": "markdown",
      "source": [
        "Summary of the bugs are tokenized and stored in ***tokens_sum***"
      ],
      "metadata": {
        "id": "uWGsh-y87oaZ"
      }
    },
    {
      "cell_type": "code",
      "source": [
        "dataset['tokens_sum'] = dataset['Summary'].apply(spacy_tokenizer)"
      ],
      "metadata": {
        "id": "fypeWyyueKYt"
      },
      "execution_count": null,
      "outputs": []
    },
    {
      "cell_type": "markdown",
      "source": [
        "Tokenized summaries are vectorized and stored in ***vectors_sum***"
      ],
      "metadata": {
        "id": "QDK1oKEF7xNL"
      }
    },
    {
      "cell_type": "code",
      "source": [
        "dataset['vectors_sum'] = dataset['tokens_sum'].apply(sent_vec)"
      ],
      "metadata": {
        "id": "JrIBQYnaepUu"
      },
      "execution_count": null,
      "outputs": []
    },
    {
      "cell_type": "markdown",
      "source": [
        "The keys of the bugs are used for identification and stored in variable ***y***"
      ],
      "metadata": {
        "id": "7YXTD7i87-Xv"
      }
    },
    {
      "cell_type": "code",
      "source": [
        "y = dataset.iloc[:, 0].values"
      ],
      "metadata": {
        "id": "J18W1gUcgfFt"
      },
      "execution_count": null,
      "outputs": []
    },
    {
      "cell_type": "markdown",
      "source": [
        "The vectors of the summaries are stored in variable ***X***"
      ],
      "metadata": {
        "id": "IHc8Pdug8L-U"
      }
    },
    {
      "cell_type": "code",
      "source": [
        "X = dataset['vectors_sum'].tolist()"
      ],
      "metadata": {
        "id": "Re713GlAe6F2"
      },
      "execution_count": null,
      "outputs": []
    },
    {
      "cell_type": "markdown",
      "source": [
        "## Training and testing datasets\n",
        "\n",
        "The pairs of keys and summaries are split into training and testing datasets and stored.\n",
        "The dataset is split into two parts. 80% of the data is used for training the model and 20% of the data is used for testing the model's accuracy."
      ],
      "metadata": {
        "id": "OV_8Vl3D8jgu"
      }
    },
    {
      "cell_type": "code",
      "source": [
        "from sklearn.model_selection import train_test_split\n",
        "\n",
        "X_train, X_test, y_train, y_test = train_test_split(X, y, test_size=0.2)"
      ],
      "metadata": {
        "id": "wBnsXPOSTWB2"
      },
      "execution_count": null,
      "outputs": []
    },
    {
      "cell_type": "markdown",
      "source": [
        "## Logistic regression\n",
        "\n",
        "Logistic regression classifies the bug into discrete outputs and represents the probability of classifying one bug as a certain type. The model is trained using maximum likelihood estimation, and the decision boundary is a linear analysis of summary, making it a simple yet effective algorithm for classifying data into distinct classes.\n",
        "\n",
        "In this section, the model is trained by calling the Logistic Regression classifier and taking the X and y training sets as input."
      ],
      "metadata": {
        "id": "UUhvLQ668_dO"
      }
    },
    {
      "cell_type": "code",
      "source": [
        "from sklearn.linear_model import LogisticRegression\n",
        "classifier = LogisticRegression()\n",
        "classifier.fit(X_train, y_train)"
      ],
      "metadata": {
        "id": "Z9g7_4gYVNdV",
        "colab": {
          "base_uri": "https://localhost:8080/",
          "height": 74
        },
        "outputId": "eb5e944c-b8f7-4a65-a3b5-aff5f4ac701e"
      },
      "execution_count": null,
      "outputs": [
        {
          "output_type": "execute_result",
          "data": {
            "text/plain": [
              "LogisticRegression()"
            ],
            "text/html": [
              "<style>#sk-container-id-18 {color: black;background-color: white;}#sk-container-id-18 pre{padding: 0;}#sk-container-id-18 div.sk-toggleable {background-color: white;}#sk-container-id-18 label.sk-toggleable__label {cursor: pointer;display: block;width: 100%;margin-bottom: 0;padding: 0.3em;box-sizing: border-box;text-align: center;}#sk-container-id-18 label.sk-toggleable__label-arrow:before {content: \"▸\";float: left;margin-right: 0.25em;color: #696969;}#sk-container-id-18 label.sk-toggleable__label-arrow:hover:before {color: black;}#sk-container-id-18 div.sk-estimator:hover label.sk-toggleable__label-arrow:before {color: black;}#sk-container-id-18 div.sk-toggleable__content {max-height: 0;max-width: 0;overflow: hidden;text-align: left;background-color: #f0f8ff;}#sk-container-id-18 div.sk-toggleable__content pre {margin: 0.2em;color: black;border-radius: 0.25em;background-color: #f0f8ff;}#sk-container-id-18 input.sk-toggleable__control:checked~div.sk-toggleable__content {max-height: 200px;max-width: 100%;overflow: auto;}#sk-container-id-18 input.sk-toggleable__control:checked~label.sk-toggleable__label-arrow:before {content: \"▾\";}#sk-container-id-18 div.sk-estimator input.sk-toggleable__control:checked~label.sk-toggleable__label {background-color: #d4ebff;}#sk-container-id-18 div.sk-label input.sk-toggleable__control:checked~label.sk-toggleable__label {background-color: #d4ebff;}#sk-container-id-18 input.sk-hidden--visually {border: 0;clip: rect(1px 1px 1px 1px);clip: rect(1px, 1px, 1px, 1px);height: 1px;margin: -1px;overflow: hidden;padding: 0;position: absolute;width: 1px;}#sk-container-id-18 div.sk-estimator {font-family: monospace;background-color: #f0f8ff;border: 1px dotted black;border-radius: 0.25em;box-sizing: border-box;margin-bottom: 0.5em;}#sk-container-id-18 div.sk-estimator:hover {background-color: #d4ebff;}#sk-container-id-18 div.sk-parallel-item::after {content: \"\";width: 100%;border-bottom: 1px solid gray;flex-grow: 1;}#sk-container-id-18 div.sk-label:hover label.sk-toggleable__label {background-color: #d4ebff;}#sk-container-id-18 div.sk-serial::before {content: \"\";position: absolute;border-left: 1px solid gray;box-sizing: border-box;top: 0;bottom: 0;left: 50%;z-index: 0;}#sk-container-id-18 div.sk-serial {display: flex;flex-direction: column;align-items: center;background-color: white;padding-right: 0.2em;padding-left: 0.2em;position: relative;}#sk-container-id-18 div.sk-item {position: relative;z-index: 1;}#sk-container-id-18 div.sk-parallel {display: flex;align-items: stretch;justify-content: center;background-color: white;position: relative;}#sk-container-id-18 div.sk-item::before, #sk-container-id-18 div.sk-parallel-item::before {content: \"\";position: absolute;border-left: 1px solid gray;box-sizing: border-box;top: 0;bottom: 0;left: 50%;z-index: -1;}#sk-container-id-18 div.sk-parallel-item {display: flex;flex-direction: column;z-index: 1;position: relative;background-color: white;}#sk-container-id-18 div.sk-parallel-item:first-child::after {align-self: flex-end;width: 50%;}#sk-container-id-18 div.sk-parallel-item:last-child::after {align-self: flex-start;width: 50%;}#sk-container-id-18 div.sk-parallel-item:only-child::after {width: 0;}#sk-container-id-18 div.sk-dashed-wrapped {border: 1px dashed gray;margin: 0 0.4em 0.5em 0.4em;box-sizing: border-box;padding-bottom: 0.4em;background-color: white;}#sk-container-id-18 div.sk-label label {font-family: monospace;font-weight: bold;display: inline-block;line-height: 1.2em;}#sk-container-id-18 div.sk-label-container {text-align: center;}#sk-container-id-18 div.sk-container {/* jupyter's `normalize.less` sets `[hidden] { display: none; }` but bootstrap.min.css set `[hidden] { display: none !important; }` so we also need the `!important` here to be able to override the default hidden behavior on the sphinx rendered scikit-learn.org. See: https://github.com/scikit-learn/scikit-learn/issues/21755 */display: inline-block !important;position: relative;}#sk-container-id-18 div.sk-text-repr-fallback {display: none;}</style><div id=\"sk-container-id-18\" class=\"sk-top-container\"><div class=\"sk-text-repr-fallback\"><pre>LogisticRegression()</pre><b>In a Jupyter environment, please rerun this cell to show the HTML representation or trust the notebook. <br />On GitHub, the HTML representation is unable to render, please try loading this page with nbviewer.org.</b></div><div class=\"sk-container\" hidden><div class=\"sk-item\"><div class=\"sk-estimator sk-toggleable\"><input class=\"sk-toggleable__control sk-hidden--visually\" id=\"sk-estimator-id-18\" type=\"checkbox\" checked><label for=\"sk-estimator-id-18\" class=\"sk-toggleable__label sk-toggleable__label-arrow\">LogisticRegression</label><div class=\"sk-toggleable__content\"><pre>LogisticRegression()</pre></div></div></div></div></div>"
            ]
          },
          "metadata": {},
          "execution_count": 114
        }
      ]
    },
    {
      "cell_type": "markdown",
      "source": [
        "## Accuracy of model\n",
        "\n",
        "In this section, the trained model is used to predict the output of the testing set by taking ***X_test*** as input and storing the predicted output in the variable ***predicted***\n",
        "\n",
        "Mean Absolute Error(MAE) and Mean Absolute Percentage Error(MAPE) are used as metrics based on the nature of the classification task and the performance of logistic regression model is determined by comparing predicted values of X_test**(predicted)** against true values of X_test**(y_test)**.\n",
        "\n",
        "\n",
        "*   MAE : It measures the average absolute difference between predicted and actual values.\n",
        "*   MAPE : It calculates the average percentage difference between predicted and actual values.\n",
        "\n"
      ],
      "metadata": {
        "id": "QLnpYDVJ9CqX"
      }
    },
    {
      "cell_type": "code",
      "source": [
        "from sklearn.metrics import mean_absolute_error, mean_absolute_percentage_error\n",
        "predicted = classifier.predict(X_test)\n",
        "\n",
        "print(\"Logistic Regression Mean Absolute Error:\",mean_absolute_error(y_test, predicted))\n",
        "print(\"Logistic Regression Mean Absolute Percentage Error:\",mean_absolute_percentage_error(y_test, predicted))"
      ],
      "metadata": {
        "colab": {
          "base_uri": "https://localhost:8080/"
        },
        "id": "T28iymGwXSV0",
        "outputId": "dfabbdd8-1d8c-4e29-801d-682ebc1486b3"
      },
      "execution_count": null,
      "outputs": [
        {
          "output_type": "stream",
          "name": "stdout",
          "text": [
            "Logistic Regression Mean Absolute Error: 132.0\n",
            "Logistic Regression Mean Absolute Percentage Error: 0.16649336283185842\n"
          ]
        }
      ]
    },
    {
      "cell_type": "code",
      "source": [
        "print('Input Summary: \"', X_test[1], '\" corresponds to the key', predicted[1])"
      ],
      "metadata": {
        "id": "c-imfwn6vUB_"
      },
      "execution_count": null,
      "outputs": []
    },
    {
      "cell_type": "markdown",
      "source": [
        "Input Summary: \"FRW file layout doesn't match data mapping specs provided in the shared point\" corresponds to the key 535"
      ],
      "metadata": {
        "id": "ejCH0uD4sCS8"
      }
    }
  ]
}